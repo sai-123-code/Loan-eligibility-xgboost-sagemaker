{
 "cells": [
  {
   "cell_type": "code",
   "execution_count": 1,
   "metadata": {
    "ExecuteTime": {
     "end_time": "2025-07-17T14:50:37.162526Z",
     "start_time": "2025-07-17T14:50:37.155489Z"
    },
    "colab": {
     "base_uri": "https://localhost:8080/"
    },
    "id": "cYqY48VlAWJg",
    "outputId": "3cc2683e-f47c-451d-c253-ebcaf7a3a931"
   },
   "outputs": [
    {
     "name": "stdout",
     "output_type": "stream",
     "text": [
      "Requirement already satisfied: boto3 in c:\\users\\garla\\pycharmprojects\\docker_testing\\.venv\\lib\\site-packages (1.39.7)\n",
      "Requirement already satisfied: botocore<1.40.0,>=1.39.7 in c:\\users\\garla\\pycharmprojects\\docker_testing\\.venv\\lib\\site-packages (from boto3) (1.39.7)\n",
      "Requirement already satisfied: jmespath<2.0.0,>=0.7.1 in c:\\users\\garla\\pycharmprojects\\docker_testing\\.venv\\lib\\site-packages (from boto3) (1.0.1)\n",
      "Requirement already satisfied: s3transfer<0.14.0,>=0.13.0 in c:\\users\\garla\\pycharmprojects\\docker_testing\\.venv\\lib\\site-packages (from boto3) (0.13.0)\n",
      "Requirement already satisfied: python-dateutil<3.0.0,>=2.1 in c:\\users\\garla\\pycharmprojects\\docker_testing\\.venv\\lib\\site-packages (from botocore<1.40.0,>=1.39.7->boto3) (2.9.0.post0)\n",
      "Requirement already satisfied: urllib3!=2.2.0,<3,>=1.25.4 in c:\\users\\garla\\pycharmprojects\\docker_testing\\.venv\\lib\\site-packages (from botocore<1.40.0,>=1.39.7->boto3) (2.5.0)\n",
      "Requirement already satisfied: six>=1.5 in c:\\users\\garla\\pycharmprojects\\docker_testing\\.venv\\lib\\site-packages (from python-dateutil<3.0.0,>=2.1->botocore<1.40.0,>=1.39.7->boto3) (1.17.0)\n",
      "Note: you may need to restart the kernel to use updated packages.\n"
     ]
    }
   ],
   "source": [
    "pip install boto3\n"
   ]
  },
  {
   "cell_type": "code",
   "execution_count": 2,
   "metadata": {
    "id": "F7zKNlNNAXyw"
   },
   "outputs": [],
   "source": [
    "import boto3\n",
    "import json\n"
   ]
  },
  {
   "cell_type": "code",
   "execution_count": 3,
   "metadata": {
    "id": "gTE-7cPgAZv0"
   },
   "outputs": [],
   "source": [
    "tst='29,2,999,0,1,0,0,1,0,0,0,0,0,0,0,0,0,0,0,1,0,0,0,0,1,0,0,0,0,0,1,0,0,1,0,0,1,0,0,0,1,0,0,0,0,1,0,0,0,0,0,0,0,0,1,0,0,1,0'\n"
   ]
  },
  {
   "cell_type": "code",
   "execution_count": 4,
   "metadata": {
    "id": "Bmc6nUtlAbby"
   },
   "outputs": [],
   "source": [
    "runtime = boto3.Session().client('sagemaker-runtime',region_name='us-west-2',\n",
    "                  aws_access_key_id='XXXXXXXXXXXXXXXXXXXX',\n",
    "                  aws_secret_access_key='XXXXXXXXXXXXXXXXXXXXXXXXXXXXXXXX' )"
   ]
  },
  {
   "cell_type": "code",
   "execution_count": 5,
   "metadata": {
    "id": "79Z5V4YDAzy8"
   },
   "outputs": [],
   "source": [
    "response = runtime.invoke_endpoint(\n",
    "    EndpointName='sagemaker-xgboost-2025-07-17-14-38-50-711', ContentType=\"text/csv\", Body=tst\n",
    ")"
   ]
  },
  {
   "cell_type": "code",
   "execution_count": 6,
   "metadata": {
    "colab": {
     "base_uri": "https://localhost:8080/"
    },
    "id": "-iaTyQy-BDC8",
    "outputId": "5b9b203d-366a-416c-eb4c-c3638e645361"
   },
   "outputs": [
    {
     "name": "stdout",
     "output_type": "stream",
     "text": [
      "Predicted Class Probabilities: 0.5\n",
      ".\n"
     ]
    }
   ],
   "source": [
    "result = response[\"Body\"].read().decode(\"ascii\")\n",
    "print(\"Predicted Class Probabilities: {}.\".format(result))"
   ]
  },
  {
   "cell_type": "code",
   "execution_count": 7,
   "metadata": {
    "colab": {
     "base_uri": "https://localhost:8080/"
    },
    "id": "RpJCoxXMBFYN",
    "outputId": "4a79154a-2366-44b6-bc53-69802965ae03"
   },
   "outputs": [
    {
     "name": "stdout",
     "output_type": "stream",
     "text": [
      "Existing buckets:\n",
      "  sagemaker-mlop-test\n"
     ]
    }
   ],
   "source": [
    "s3 = boto3.client('s3', region_name='us-west-2',\n",
    "                  aws_access_key_id='XXXXXXXXXXXXXXXXXXXXX',\n",
    "                  aws_secret_access_key='XXXXXXXXXXXXXXXXXXXXXXXXXXXXXXXXXXXXXXXXXXX')\n",
    "response = s3.list_buckets()\n",
    "\n",
    "# Output the bucket names\n",
    "print('Existing buckets:')\n",
    "for bucket in response['Buckets']:\n",
    "    print(f'  {bucket[\"Name\"]}')"
   ]
  },
  {
   "cell_type": "code",
   "execution_count": null,
   "metadata": {
    "id": "bnfqLC4BBesx"
   },
   "outputs": [],
   "source": []
  }
 ],
 "metadata": {
  "colab": {
   "provenance": []
  },
  "kernelspec": {
   "display_name": "Python 3 (ipykernel)",
   "language": "python",
   "name": "python3"
  },
  "language_info": {
   "codemirror_mode": {
    "name": "ipython",
    "version": 3
   },
   "file_extension": ".py",
   "mimetype": "text/x-python",
   "name": "python",
   "nbconvert_exporter": "python",
   "pygments_lexer": "ipython3",
   "version": "3.13.0"
  }
 },
 "nbformat": 4,
 "nbformat_minor": 4
}
